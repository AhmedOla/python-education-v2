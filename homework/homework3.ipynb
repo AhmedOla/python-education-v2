{
  "nbformat": 4,
  "nbformat_minor": 0,
  "metadata": {
    "colab": {
      "name": "Welcome To Colaboratory",
      "provenance": [],
      "collapsed_sections": []
    },
    "kernelspec": {
      "display_name": "Python 3",
      "name": "python3"
    }
  },
  "cells": [
    {
      "cell_type": "markdown",
      "metadata": {
        "id": "mljDKik18xSu"
      },
      "source": [
        "                    Homework Day 3"
      ]
    },
    {
      "cell_type": "code",
      "metadata": {
        "id": "ZeseiXQR9Vac",
        "outputId": "ea7554a0-1d4a-4705-c17b-1638e5956987",
        "colab": {
          "base_uri": "https://localhost:8080/"
        }
      },
      "source": [
        "print(\"********Login Applicatication*******\")\r\n",
        "\r\n",
        "User_name = (\"Ola\")\r\n",
        "Pass_word = (\"Meeee\")\r\n",
        "User_name = input(\"Please Type in your username:  \")\r\n",
        "Pass_word = input(\"Please Type in your password:\")\r\n",
        "if (User_name != User_name and Pass_word == Pass_word):\r\n",
        "    print(\"Invalid Username \")\r\n",
        "elif (User_name == User_name and Pass_word != Pass_word):\r\n",
        "    print(\"Invalid Password\")\r\n",
        "elif (User_name != User_name and Pass_word != Pass_word):\r\n",
        "    print(\"Invalid Username and Password\")\r\n",
        "else:\r\n",
        "    print(\"login Successful\")"
      ],
      "execution_count": 4,
      "outputs": [
        {
          "output_type": "stream",
          "text": [
            "********Login Applicatication*******\n",
            "Please Type in your username:  Ola\n",
            "Please Type in your password:Meeee\n",
            "login Successful\n"
          ],
          "name": "stdout"
        }
      ]
    },
    {
      "cell_type": "code",
      "metadata": {
        "id": "JOx83KHwEiQr",
        "outputId": "78b96f6a-0765-431b-c5f8-2fd6b45fec68",
        "colab": {
          "base_uri": "https://localhost:8080/"
        }
      },
      "source": [
        "print(\"********Login Applicatication*******\")\r\n",
        "userPass ={\"Ola : 1234\"}\r\n",
        "\r\n",
        "\r\n",
        "User_name = input(\"Please Type in your username:  \")\r\n",
        "if User_name in userPass:\r\n",
        "   Pass_word = input(\"Please Type in your password: \")\r\n",
        "   if Pass_word == userPass[userPass]:\r\n",
        "      Pass_word = input(\"Please Type in your password: \")\r\n",
        "      print(\"login Successful\")\r\n",
        "   else:\r\n",
        "       print(\"Invalid password\")\r\n",
        "else:\r\n",
        "  print(\"Invalid Username \")\r\n",
        "  \r\n",
        "    "
      ],
      "execution_count": 18,
      "outputs": [
        {
          "output_type": "stream",
          "text": [
            "********Login Applicatication*******\n",
            "Please Type in your username:  Ola\n",
            "Invalid Username \n"
          ],
          "name": "stdout"
        }
      ]
    },
    {
      "cell_type": "code",
      "metadata": {
        "id": "56C7jqPkGSxk",
        "outputId": "84194fab-d1cb-4572-d462-51b6733bc693",
        "colab": {
          "base_uri": "https://localhost:8080/"
        }
      },
      "source": [
        "d"
      ],
      "execution_count": 10,
      "outputs": [
        {
          "output_type": "stream",
          "text": [
            "A human has 2 legs.\n",
            "A cat has 4 legs.\n",
            "A spider has 8 legs.\n"
          ],
          "name": "stdout"
        }
      ]
    }
  ]
}
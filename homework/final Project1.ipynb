
<!DOCTYPE html>
<html lang="fil">
  <head>
  <meta charset="utf-8">
  <meta content="width=300, initial-scale=1" name="viewport">
  <meta name="description" content="Ang Google Drive ay isang libreng paraan upang mapanatiling palaging may back up at madaling ma-access ang iyong mga file sa anumang cellphone, tablet o computer. Magsimula sa libreng 15GB ng storage ng Google – nang libre.">
  <meta name="google-site-verification" content="LrdTUW9psUAMbh4Ia074-BPEVmcpBxF6Gwf0MSgQXZs">
  <title>Ipinakikilala ang Google Drive – Isang lugar para sa lahat ng iyong file</title>
  <style>
  @font-face {
  font-family: 'Open Sans';
  font-style: normal;
  font-weight: 300;
  src: url(//fonts.gstatic.com/s/opensans/v15/mem5YaGs126MiZpBA-UN_r8OUuhsKKSTjw.ttf) format('truetype');
}
@font-face {
  font-family: 'Open Sans';
  font-style: normal;
  font-weight: 400;
  src: url(//fonts.gstatic.com/s/opensans/v15/mem8YaGs126MiZpBA-UFVZ0ef8pkAg.ttf) format('truetype');
}
  </style>
  <style>
  h1, h2 {
  -webkit-animation-duration: 0.1s;
  -webkit-animation-name: fontfix;
  -webkit-animation-iteration-count: 1;
  -webkit-animation-timing-function: linear;
  -webkit-animation-delay: 0;
  }
  @-webkit-keyframes fontfix {
  from {
  opacity: 1;
  }
  to {
  opacity: 1;
  }
  }
  </style>
<style>
  html, body {
  font-family: Arial, sans-serif;
  background: #fff;
  margin: 0;
  padding: 0;
  border: 0;
  position: absolute;
  height: 100%;
  min-width: 100%;
  font-size: 13px;
  color: #404040;
  direction: ltr;
  -webkit-text-size-adjust: none;
  }
  button,
  input[type=button],
  input[type=submit] {
  font-family: Arial, sans-serif;
  font-size: 13px;
  }
  a,
  a:hover,
  a:visited {
  color: #427fed;
  cursor: pointer;
  text-decoration: none;
  }
  a:hover {
  text-decoration: underline;
  }
  h1 {
  font-size: 20px;
  color: #262626;
  margin: 0 0 15px;
  font-weight: normal;
  }
  h2 {
  font-size: 14px;
  color: #262626;
  margin: 0 0 15px;
  font-weight: bold;
  }
  input[type=email],
  input[type=number],
  input[type=password],
  input[type=tel],
  input[type=text],
  input[type=url] {
  -moz-appearance: none;
  -webkit-appearance: none;
  appearance: none;
  display: inline-block;
  height: 36px;
  padding: 0 8px;
  margin: 0;
  background: #fff;
  border: 1px solid #d9d9d9;
  border-top: 1px solid #c0c0c0;
  -moz-box-sizing: border-box;
  -webkit-box-sizing: border-box;
  box-sizing: border-box;
  -moz-border-radius: 1px;
  -webkit-border-radius: 1px;
  border-radius: 1px;
  font-size: 15px;
  color: #404040;
  }
  input[type=email]:hover,
  input[type=number]:hover,
  input[type=password]:hover,
  input[type=tel]:hover,
  input[type=text]:hover,
  input[type=url]:hover {
  border: 1px solid #b9b9b9;
  border-top: 1px solid #a0a0a0;
  -moz-box-shadow: inset 0 1px 2px rgba(0,0,0,0.1);
  -webkit-box-shadow: inset 0 1px 2px rgba(0,0,0,0.1);
  box-shadow: inset 0 1px 2px rgba(0,0,0,0.1);
  }
  input[type=email]:focus,
  input[type=number]:focus,
  input[type=password]:focus,
  input[type=tel]:focus,
  input[type=text]:focus,
  input[type=url]:focus {
  outline: none;
  border: 1px solid #4d90fe;
  -moz-box-shadow: inset 0 1px 2px rgba(0,0,0,0.3);
  -webkit-box-shadow: inset 0 1px 2px rgba(0,0,0,0.3);
  box-shadow: inset 0 1px 2px rgba(0,0,0,0.3);
  }
  input[type=checkbox],
  input[type=radio] {
  -webkit-appearance: none;
  display: inline-block;
  width: 13px;
  height: 13px;
  margin: 0;
  cursor: pointer;
  vertical-align: bottom;
  background: #fff;
  border: 1px solid #c6c6c6;
  -moz-border-radius: 1px;
  -webkit-border-radius: 1px;
  border-radius: 1px;
  -moz-box-sizing: border-box;
  -webkit-box-sizing: border-box;
  box-sizing: border-box;
  position: relative;
  }
  input[type=checkbox]:active,
  input[type=radio]:active {
  background: #ebebeb;
  }
  input[type=checkbox]:hover {
  border-color: #c6c6c6;
  -moz-box-shadow: inset 0 1px 2px rgba(0,0,0,0.1);
  -webkit-box-shadow: inset 0 1px 2px rgba(0,0,0,0.1);
  box-shadow: inset 0 1px 2px rgba(0,0,0,0.1);
  }
  input[type=radio] {
  -moz-border-radius: 1em;
  -webkit-border-radius: 1em;
  border-radius: 1em;
  width: 15px;
  height: 15px;
  }
  input[type=checkbox]:checked,
  input[type=radio]:checked {
  background: #fff;
  }
  input[type=radio]:checked::after {
  content: '';
  display: block;
  position: relative;
  top: 3px;
  left: 3px;
  width: 7px;
  height: 7px;
  background: #666;
  -moz-border-radius: 1em;
  -webkit-border-radius: 1em;
  border-radius: 1em;
  }
  input[type=checkbox]:checked::after {
  content: url(https://ssl.gstatic.com/ui/v1/menu/checkmark.png);
  display: block;
  position: absolute;
  top: -6px;
  left: -5px;
  }
  input[type=checkbox]:focus {
  outline: none;
  border-color: #4d90fe;
  }
  .stacked-label {
  display: block;
  font-weight: bold;
  margin: .5em 0;
  }
  .hidden-label {
  position: absolute !important;
  clip: rect(1px 1px 1px 1px); /* IE6, IE7 */
  clip: rect(1px, 1px, 1px, 1px);
  height: 0px;
  width: 0px;
  overflow: hidden;
  visibility: hidden;
  }
  input[type=checkbox].form-error,
  input[type=email].form-error,
  input[type=number].form-error,
  input[type=password].form-error,
  input[type=text].form-error,
  input[type=tel].form-error,
  input[type=url].form-error {
  border: 1px solid #dd4b39;
  }
  .error-msg {
  margin: .5em 0;
  display: block;
  color: #dd4b39;
  line-height: 17px;
  }
  .help-link {
  background: #dd4b39;
  padding: 0 5px;
  color: #fff;
  font-weight: bold;
  display: inline-block;
  -moz-border-radius: 1em;
  -webkit-border-radius: 1em;
  border-radius: 1em;
  text-decoration: none;
  position: relative;
  top: 0px;
  }
  .help-link:visited {
  color: #fff;
  }
  .help-link:hover {
  color: #fff;
  background: #c03523;
  text-decoration: none;
  }
  .help-link:active {
  opacity: 1;
  background: #ae2817;
  }
  .wrapper {
  position: relative;
  min-height: 100%;
  }
  .content {
  padding: 0 44px;
  }
  .main {
  padding-bottom: 100px;
  }
  /* For modern browsers */
  .clearfix:before,
  .clearfix:after {
  content: "";
  display: table;
  }
  .clearfix:after {
  clear: both;
  }
  /* For IE 6/7 (trigger hasLayout) */
  .clearfix {
  zoom:1;
  }
  .google-header-bar {
  height: 71px;
  border-bottom: 1px solid #e5e5e5;
  overflow: hidden;
  }
  .header .logo {
  background-image: url(https://ssl.gstatic.com/accounts/ui/logo_1x.png);
  background-size: 116px 38px;
  background-repeat: no-repeat;
  margin: 17px 0 0;
  float: left;
  height: 38px;
  width: 116px;
  }
  .header .logo-w {
  background-image: url(https://ssl.gstatic.com/images/branding/googlelogo/1x/googlelogo_color_112x36dp.png);
  background-size: 112px 36px;
  margin: 21px 0 0;
  }
  .header .secondary-link {
  margin: 28px 0 0;
  float: right;
  }
  .header .secondary-link a {
  font-weight: normal;
  }
  .google-header-bar.centered {
  border: 0;
  height: 108px;
  }
  .google-header-bar.centered .header .logo {
  float: none;
  margin: 40px auto 30px;
  display: block;
  }
  .google-header-bar.centered .header .secondary-link {
  display: none
  }
  .google-footer-bar {
  position: absolute;
  bottom: 0;
  height: 35px;
  width: 100%;
  border-top: 1px solid #e5e5e5;
  overflow: hidden;
  }
  .footer {
  padding-top: 7px;
  font-size: .85em;
  white-space: nowrap;
  line-height: 0;
  }
  .footer ul {
  float: left;
  max-width: 80%;
  min-height: 16px;
  padding: 0;
  }
  .footer ul li {
  color: #737373;
  display: inline;
  padding: 0;
  padding-right: 1.5em;
  }
  .footer a {
  color: #737373;
  }
  .lang-chooser-wrap {
  float: right;
  display: inline;
  }
  .lang-chooser-wrap img {
  vertical-align: top;
  }
  .lang-chooser {
  font-size: 13px;
  height: 24px;
  line-height: 24px;
  }
  .lang-chooser option {
  font-size: 13px;
  line-height: 24px;
  }
  .hidden {
  height: 0px;
  width: 0px;
  overflow: hidden;
  visibility: hidden;
  display: none !important;
  }
  .banner {
  text-align: center;
  }
  .card {
  background-color: #f7f7f7;
  padding: 20px 25px 30px;
  margin: 0 auto 25px;
  width: 304px;
  -moz-border-radius: 2px;
  -webkit-border-radius: 2px;
  border-radius: 2px;
  -moz-box-shadow: 0px 2px 2px rgba(0, 0, 0, 0.3);
  -webkit-box-shadow: 0px 2px 2px rgba(0, 0, 0, 0.3);
  box-shadow: 0px 2px 2px rgba(0, 0, 0, 0.3);
  }
  .card > *:first-child {
  margin-top: 0;
  }
  .rc-button,
  .rc-button:visited {
  display: inline-block;
  min-width: 46px;
  text-align: center;
  color: #444;
  font-size: 14px;
  font-weight: 700;
  height: 36px;
  padding: 0 8px;
  line-height: 36px;
  -moz-border-radius: 3px;
  -webkit-border-radius: 3px;
  border-radius: 3px;
  -o-transition: all 0.218s;
  -moz-transition: all 0.218s;
  -webkit-transition: all 0.218s;
  transition: all 0.218s;
  border: 1px solid #dcdcdc;
  background-color: #f5f5f5;
  background-image: -webkit-linear-gradient(top,#f5f5f5,#f1f1f1);
  background-image: -moz-linear-gradient(top,#f5f5f5,#f1f1f1);
  background-image: -ms-linear-gradient(top,#f5f5f5,#f1f1f1);
  background-image: -o-linear-gradient(top,#f5f5f5,#f1f1f1);
  background-image: linear-gradient(top,#f5f5f5,#f1f1f1);
  -o-transition: none;
  -moz-user-select: none;
  -webkit-user-select: none;
  user-select: none;
  cursor: default;
  }
  .card .rc-button {
  width: 100%;
  padding: 0;
  }
  .rc-button.disabled,
  .rc-button[disabled] {
  opacity: .5;
  filter: alpha(opacity=50);
  cursor: default;
  pointer-events: none;
  }
  .rc-button:hover {
  border: 1px solid #c6c6c6;
  color: #333;
  text-decoration: none;
  -o-transition: all 0.0s;
  -moz-transition: all 0.0s;
  -webkit-transition: all 0.0s;
  transition: all 0.0s;
  background-color: #f8f8f8;
  background-image: -webkit-linear-gradient(top,#f8f8f8,#f1f1f1);
  background-image: -moz-linear-gradient(top,#f8f8f8,#f1f1f1);
  background-image: -ms-linear-gradient(top,#f8f8f8,#f1f1f1);
  background-image: -o-linear-gradient(top,#f8f8f8,#f1f1f1);
  background-image: linear-gradient(top,#f8f8f8,#f1f1f1);
  -moz-box-shadow: 0 1px 1px rgba(0,0,0,0.1);
  -webkit-box-shadow: 0 1px 1px rgba(0,0,0,0.1);
  box-shadow: 0 1px 1px rgba(0,0,0,0.1);
  }
  .rc-button:active {
  background-color: #f6f6f6;
  background-image: -webkit-linear-gradient(top,#f6f6f6,#f1f1f1);
  background-image: -moz-linear-gradient(top,#f6f6f6,#f1f1f1);
  background-image: -ms-linear-gradient(top,#f6f6f6,#f1f1f1);
  background-image: -o-linear-gradient(top,#f6f6f6,#f1f1f1);
  background-image: linear-gradient(top,#f6f6f6,#f1f1f1);
  -moz-box-shadow: 0 1px 2px rgba(0,0,0,0.1);
  -webkit-box-shadow: 0 1px 2px rgba(0,0,0,0.1);
  box-shadow: 0 1px 2px rgba(0,0,0,0.1);
  }
  .rc-button-submit,
  .rc-button-submit:visited {
  border: 1px solid #3079ed;
  color: #fff;
  text-shadow: 0 1px rgba(0,0,0,0.1);
  background-color: #4d90fe;
  background-image: -webkit-linear-gradient(top,#4d90fe,#4787ed);
  background-image: -moz-linear-gradient(top,#4d90fe,#4787ed);
  background-image: -ms-linear-gradient(top,#4d90fe,#4787ed);
  background-image: -o-linear-gradient(top,#4d90fe,#4787ed);
  background-image: linear-gradient(top,#4d90fe,#4787ed);
  }
  .rc-button-submit:hover {
  border: 1px solid #2f5bb7;
  color: #fff;
  text-shadow: 0 1px rgba(0,0,0,0.3);
  background-color: #357ae8;
  background-image: -webkit-linear-gradient(top,#4d90fe,#357ae8);
  background-image: -moz-linear-gradient(top,#4d90fe,#357ae8);
  background-image: -ms-linear-gradient(top,#4d90fe,#357ae8);
  background-image: -o-linear-gradient(top,#4d90fe,#357ae8);
  background-image: linear-gradient(top,#4d90fe,#357ae8);
  }
  .rc-button-submit:active {
  background-color: #357ae8;
  background-image: -webkit-linear-gradient(top,#4d90fe,#357ae8);
  background-image: -moz-linear-gradient(top,#4d90fe,#357ae8);
  background-image: -ms-linear-gradient(top,#4d90fe,#357ae8);
  background-image: -o-linear-gradient(top,#4d90fe,#357ae8);
  background-image: linear-gradient(top,#4d90fe,#357ae8);
  -moz-box-shadow: inset 0 1px 2px rgba(0,0,0,0.3);
  -webkit-box-shadow: inset 0 1px 2px rgba(0,0,0,0.3);
  box-shadow: inset 0 1px 2px rgba(0,0,0,0.3);
  }
  .rc-button-red,
  .rc-button-red:visited {
  border: 1px solid transparent;
  color: #fff;
  text-shadow: 0 1px rgba(0,0,0,0.1);
  background-color: #d14836;
  background-image: -webkit-linear-gradient(top,#dd4b39,#d14836);
  background-image: -moz-linear-gradient(top,#dd4b39,#d14836);
  background-image: -ms-linear-gradient(top,#dd4b39,#d14836);
  background-image: -o-linear-gradient(top,#dd4b39,#d14836);
  background-image: linear-gradient(top,#dd4b39,#d14836);
  }
  .rc-button-red:hover {
  border: 1px solid #b0281a;
  color: #fff;
  text-shadow: 0 1px rgba(0,0,0,0.3);
  background-color: #c53727;
  background-image: -webkit-linear-gradient(top,#dd4b39,#c53727);
  background-image: -moz-linear-gradient(top,#dd4b39,#c53727);
  background-image: -ms-linear-gradient(top,#dd4b39,#c53727);
  background-image: -o-linear-gradient(top,#dd4b39,#c53727);
  background-image: linear-gradient(top,#dd4b39,#c53727);
  }
  .rc-button-red:active {
  border: 1px solid #992a1b;
  background-color: #b0281a;
  background-image: -webkit-linear-gradient(top,#dd4b39,#b0281a);
  background-image: -moz-linear-gradient(top,#dd4b39,#b0281a);
  background-image: -ms-linear-gradient(top,#dd4b39,#b0281a);
  background-image: -o-linear-gradient(top,#dd4b39,#b0281a);
  background-image: linear-gradient(top,#dd4b39,#b0281a);
  -moz-box-shadow: inset 0 1px 2px rgba(0,0,0,0.3);
  -webkit-box-shadow: inset 0 1px 2px rgba(0,0,0,0.3);
  box-shadow: inset 0 1px 2px rgba(0,0,0,0.3);
  }
  .secondary-actions {
  text-align: center;
  }
</style>
<style media="screen and (max-width: 800px), screen and (max-height: 800px)">
  .google-header-bar.centered {
  height: 83px;
  }
  .google-header-bar.centered .header .logo {
  margin: 25px auto 20px;
  }
  .card {
  margin-bottom: 20px;
  }
</style>
<style media="screen and (max-width: 580px)">
  html, body {
  font-size: 14px;
  }
  .google-header-bar.centered {
  height: 73px;
  }
  .google-header-bar.centered .header .logo {
  margin: 20px auto 15px;
  }
  .content {
  padding-left: 10px;
  padding-right: 10px;
  }
  .hidden-small {
  display: none;
  }
  .card {
  padding: 20px 15px 30px;
  width: 270px;
  }
  .footer ul li {
  padding-right: 1em;
  }
  .lang-chooser-wrap {
  display: none;
  }
</style>
<style media="screen and (-webkit-min-device-pixel-ratio: 1.5), (min--moz-device-pixel-ratio: 1.5), (-o-min-device-pixel-ratio: 3 / 2), (min-device-pixel-ratio: 1.5)">
  .header .logo {
  background-image: url(https://ssl.gstatic.com/accounts/ui/logo_2x.png);
  }
  .header .logo-w {
  background-image: url(https://ssl.gstatic.com/images/branding/googlelogo/2x/googlelogo_color_112x36dp.png);
  }
</style>
<style>
  pre.debug {
  font-family: monospace;
  position: absolute;
  left: 0;
  margin: 0;
  padding: 1.5em;
  font-size: 13px;
  background: #f1f1f1;
  border-top: 1px solid #e5e5e5;
  direction: ltr;
  white-space: pre-wrap;
  width: 90%;
  overflow: hidden;
  }
</style>
<style>
  .banner h1 {
  font-family: 'Open Sans', arial;
  -webkit-font-smoothing: antialiased;
  color: #555;
  font-size: 42px;
  font-weight: 300;
  margin-top: 0;
  margin-bottom: 20px;
  }
  .banner h2 {
  font-family: 'Open Sans', arial;
  -webkit-font-smoothing: antialiased;
  color: #555;
  font-size: 18px;
  font-weight: 400;
  margin-bottom: 20px;
  }
  .signin-card {
  width: 274px;
  padding: 40px 40px;
  }
  .signin-card .profile-img {
  width: 96px;
  height: 96px;
  margin: 0 auto 10px;
  display: block;
  -moz-border-radius: 50%;
  -webkit-border-radius: 50%;
  border-radius: 50%;
  }
  .signin-card .profile-name {
  font-size: 16px;
  font-weight: bold;
  text-align: center;
  margin: 10px 0 0;
  min-height: 1em;
  }
  .signin-card .profile-email {
  font-size: 16px;
  text-align: center;
  margin: 10px 0 20px 0;
  min-height: 1em;
  }
  .signin-card input[type=email],
  .signin-card input[type=password],
  .signin-card input[type=text],
  .signin-card input[type=submit] {
  width: 100%;
  display: block;
  margin-bottom: 10px;
  z-index: 1;
  position: relative;
  -moz-box-sizing: border-box;
  -webkit-box-sizing: border-box;
  box-sizing: border-box;
  }
  .signin-card #Email,
  .signin-card #Passwd,
  .signin-card .captcha {
  direction: ltr;
  height: 44px;
  font-size: 16px;
  }
  .signin-card #Email + .stacked-label {
  margin-top: 15px;
  }
  .signin-card #reauthEmail {
  display: block;
  margin-bottom: 10px;
  line-height: 36px;
  padding: 0 8px;
  font-size: 15px;
  color: #404040;
  line-height: 2;
  margin-bottom: 10px;
  font-size: 14px;
  text-align: center;
  overflow: hidden;
  text-overflow: ellipsis;
  white-space: nowrap;
  -moz-box-sizing: border-box;
  -webkit-box-sizing: border-box;
  box-sizing: border-box;
  }
  .one-google p {
  margin: 0 0 10px;
  color: #555;
  font-size: 14px;
  text-align: center;
  }
  .one-google p.create-account,
  .one-google p.switch-account {
  margin-bottom: 60px;
  }
  .one-google .logo-strip {
  background-repeat: no-repeat;
  display: block;
  margin: 10px auto;
  background-image: url(https://ssl.gstatic.com/accounts/ui/wlogostrip_230x17_1x.png);
  background-size: 230px 17px;
  width: 230px;
  height: 17px;
  }
</style>
<style media="screen and (max-width: 800px), screen and (max-height: 800px)">
  .banner h1 {
  font-size: 38px;
  margin-bottom: 15px;
  }
  .banner h2 {
  margin-bottom: 15px;
  }
  .one-google p.create-account,
  .one-google p.switch-account {
  margin-bottom: 30px;
  }
  .signin-card #Email {
  margin-bottom: 0;
  }
  .signin-card #Passwd {
  margin-top: -1px;
  }
  .signin-card #Email.form-error,
  .signin-card #Passwd.form-error {
  z-index: 2;
  }
  .signin-card #Email:hover,
  .signin-card #Email:focus,
  .signin-card #Passwd:hover,
  .signin-card #Passwd:focus {
  z-index: 3;
  }
</style>
<style media="screen and (max-width: 580px)">
  .banner h1 {
  font-size: 22px;
  margin-bottom: 15px;
  }
  .signin-card {
  width: 260px;
  padding: 20px 20px;
  margin: 0 auto 20px;
  }
  .signin-card .profile-img {
  width: 72px;
  height: 72px;
  -moz-border-radius: 72px;
  -webkit-border-radius: 72px;
  border-radius: 72px;
  }
</style>
<style media="screen and (-webkit-min-device-pixel-ratio: 1.5), (min--moz-device-pixel-ratio: 1.5), (-o-min-device-pixel-ratio: 3 / 2), (min-device-pixel-ratio: 1.5)">
  .one-google .logo-strip {
  background-image: url(https://ssl.gstatic.com/accounts/ui/wlogostrip_230x17_2x.png);
  }
</style>
<style>
  .remember .bubble-wrap {
  position: absolute;
  padding-top: 3px;
  -o-transition: opacity .218s ease-in .218s;
  -moz-transition: opacity .218s ease-in .218s;
  -webkit-transition: opacity .218s ease-in .218s;
  transition: opacity .218s ease-in .218s;
  left: -999em;
  opacity: 0;
  width: 314px;
  margin-left: -20px;
  }
  .remember:hover .bubble-wrap,
  .remember input:focus ~ .bubble-wrap,
  .remember .bubble-wrap:hover,
  .remember .bubble-wrap:focus {
  opacity: 1;
  left: inherit;
  }
  .bubble-pointer {
  border-left: 10px solid transparent;
  border-right: 10px solid transparent;
  border-bottom: 10px solid #fff;
  width: 0;
  height: 0;
  margin-left: 17px;
  }
  .bubble {
  background-color: #fff;
  padding: 15px;
  margin-top: -1px;
  font-size: 11px;
  -moz-border-radius: 2px;
  -webkit-border-radius: 2px;
  border-radius: 2px;
  -moz-box-shadow: 0px 2px 2px rgba(0, 0, 0, 0.3);
  -webkit-box-shadow: 0px 2px 2px rgba(0, 0, 0, 0.3);
  box-shadow: 0px 2px 2px rgba(0, 0, 0, 0.3);
  }
  #stay-signed-in {
  float: left;
  }
  #stay-signed-in-tooltip {
  left: auto;
  margin-left: -20px;
  padding-top: 3px;
  position: absolute;
  top: 0;
  visibility: hidden;
  width: 314px;
  z-index: 1;
  }
  .dasher-tooltip {
  top: 380px;
  }
</style>
<style media="screen and (max-width: 800px), screen and (max-height: 800px)">
  .dasher-tooltip {
  top: 340px;
  }
</style>
<style>
  .jfk-tooltip {
  background-color: #fff;
  border: 1px solid;
  color: #737373;
  font-size: 12px;
  position: absolute;
  z-index: 800 !important;
  border-color: #bbb #bbb #a8a8a8;
  padding: 16px;
  width: 250px;
  }
 .jfk-tooltip h3 {
  color: #555;
  font-size: 12px;
  margin: 0 0 .5em;
  }
 .jfk-tooltip-content p:last-child {
  margin-bottom: 0;
  }
  .jfk-tooltip-arrow {
  position: absolute;
  }
  .jfk-tooltip-arrow .jfk-tooltip-arrowimplbefore,
  .jfk-tooltip-arrow .jfk-tooltip-arrowimplafter {
  display: block;
  height: 0;
  position: absolute;
  width: 0;
  }
  .jfk-tooltip-arrow .jfk-tooltip-arrowimplbefore {
  border: 9px solid;
  }
  .jfk-tooltip-arrow .jfk-tooltip-arrowimplafter {
  border: 8px solid;
  }
  .jfk-tooltip-arrowdown {
  bottom: 0;
  }
  .jfk-tooltip-arrowup {
  top: -9px;
  }
  .jfk-tooltip-arrowleft {
  left: -9px;
  top: 30px;
  }
  .jfk-tooltip-arrowright {
  right: 0;
  top: 30px;
  }
  .jfk-tooltip-arrowdown .jfk-tooltip-arrowimplbefore,.jfk-tooltip-arrowup .jfk-tooltip-arrowimplbefore {
  border-color: #bbb transparent;
  left: -9px;
  }
  .jfk-tooltip-arrowdown .jfk-tooltip-arrowimplbefore {
  border-color: #a8a8a8 transparent;
  }
  .jfk-tooltip-arrowdown .jfk-tooltip-arrowimplafter,.jfk-tooltip-arrowup .jfk-tooltip-arrowimplafter {
  border-color: #fff transparent;
  left: -8px;
  }
  .jfk-tooltip-arrowdown .jfk-tooltip-arrowimplbefore {
  border-bottom-width: 0;
  }
  .jfk-tooltip-arrowdown .jfk-tooltip-arrowimplafter {
  border-bottom-width: 0;
  }
  .jfk-tooltip-arrowup .jfk-tooltip-arrowimplbefore {
  border-top-width: 0;
  }
  .jfk-tooltip-arrowup .jfk-tooltip-arrowimplafter {
  border-top-width: 0;
  top: 1px;
  }
  .jfk-tooltip-arrowleft .jfk-tooltip-arrowimplbefore,
  .jfk-tooltip-arrowright .jfk-tooltip-arrowimplbefore {
  border-color: transparent #bbb;
  top: -9px;
  }
  .jfk-tooltip-arrowleft .jfk-tooltip-arrowimplafter,
  .jfk-tooltip-arrowright .jfk-tooltip-arrowimplafter {
  border-color:transparent #fff;
  top:-8px;
  }
  .jfk-tooltip-arrowleft .jfk-tooltip-arrowimplbefore {
  border-left-width: 0;
  }
  .jfk-tooltip-arrowleft .jfk-tooltip-arrowimplafter {
  border-left-width: 0;
  left: 1px;
  }
  .jfk-tooltip-arrowright .jfk-tooltip-arrowimplbefore {
  border-right-width: 0;
  }
  .jfk-tooltip-arrowright .jfk-tooltip-arrowimplafter {
  border-right-width: 0;
  }
  .jfk-tooltip-closebtn {
  background: url("//ssl.gstatic.com/ui/v1/icons/common/x_8px.png") no-repeat;
  border: 1px solid transparent;
  height: 21px;
  opacity: .4;
  outline: 0;
  position: absolute;
  right: 2px;
  top: 2px;
  width: 21px;
  }
  .jfk-tooltip-closebtn:focus,
  .jfk-tooltip-closebtn:hover {
  opacity: .8;
  cursor: pointer;
  }
  .jfk-tooltip-closebtn:focus {
  border-color: #4d90fe;
  }
</style>
<style media="screen and (max-width: 580px)">
  .jfk-tooltip {
  display: none;
  }
</style>
<style type="text/css">
.captcha-box {
  background: #fff;
  margin: 0 0 10px;
  overflow: hidden;
  padding: 10px;
}
.captcha-box .captcha-img {
  text-align: center;
}
.captcha-box .captcha-label {
  font-weight: bold;
  display: block;
  margin: .5em 0;
}
.captcha-box .captcha-msg {
  color: #999;
  display: block;
  position: relative;
}
.captcha-box .captcha-msg .accessibility-logo {
  float: right;
  border: 0;
}
.captcha-box .audio-box {
  position: absolute;
  top: 0;
}
</style>
<style>
.chromiumsync-custom-content {
  padding-top: 20px;
  margin-bottom: 0;
}
.form-panel {
  -webkit-box-sizing: border-box;
  box-sizing: border-box;
  -webkit-transform: translateZ(0);
  -moz-transform: translateZ(0);
  -ms-transform: translateZ(0);
  -o-transform: translateZ(0);
  transform: translateZ(0);
  width: 100%;
}
.form-panel.first {
  z-index: 2;
}
.form-panel.second {
  z-index: 1;
}
.shift-form .form-panel.first {
  z-index: 1;
}
.shift-form .form-panel.second {
  z-index: 2;
}
.slide-in,
.slide-out {
  display: block;
  -webkit-transition-property: -webkit-transform, opacity;
  -moz-transition-property: -moz-transform, opacity;
  -ms-transition-property: -ms-transform, opacity;
  -o-transition-property: -o-transform, opacity;
  transition-property: transform, opacity;
  -webkit-transition-duration: 0.1s;
  -moz-transition-duration: 0.1s;
  -ms-transition-duration: 0.1s;
  -o-transition-duration: 0.1s;
  transition-duration: 0.1s;
  -webkit-transition-timing-function: cubic-bezier(0.4, 0, 0.2, 1);
  -moz-transition-timing-function: cubic-bezier(0.4, 0, 0.2, 1);
  -ms-transition-timing-function: cubic-bezier(0.4, 0, 0.2, 1);
  -o-transition-timing-function: cubic-bezier(0.4, 0, 0.2, 1);
  transition-timing-function: cubic-bezier(0.4, 0, 0.2, 1);
}
.slide-out {
  -webkit-transform: translate3d(0, 0, 0);
  -moz-transform: translate3d(0, 0, 0);
  -ms-transform: translate3d(0, 0, 0);
  -o-transform: translate3d(0, 0, 0);
  transform: translate3d(0, 0, 0);
}
.shift-form .slide-out {
  opacity: 0;
  -webkit-transform: translate3d(-120%, 0, 0);
  -moz-transform: translate3d(-120%, 0, 0);
  -ms-transform: translate3d(-120%, 0, 0);
  -o-transform: translate3d(-120%, 0, 0);
  transform: translate3d(-120%, 0, 0);
}
.slide-in {
  -webkit-transform: translate3d(120%, 0, 0);
  -moz-transform: translate3d(120%, 0, 0);
  -ms-transform: translate3d(120%, 0, 0);
  -o-transform: translate3d(120%, 0, 0);
  transform: translate3d(120%, 0, 0);
}
.shift-form .slide-in {
  opacity: 1;
  -webkit-transform: translate3d(0, 0, 0);
  -moz-transform: translate3d(0, 0, 0);
  -ms-transform: translate3d(0, 0, 0);
  -o-transform: translate3d(0, 0, 0);
  transform: translate3d(0, 0, 0);
}
.error-msg {
  -webkit-transition: max-height 0.3s, opacity 0.3s 0s steps(10, end);
  -moz-transition: max-height 0.3s, opacity 0.3s 0s steps(10, end);
  -ms-transition: max-height 0.3s, opacity 0.3s 0s steps(10, end);
  -o-transition: max-height 0.3s, opacity 0.3s 0s steps(10, end);
  transition: max-height 0.3s, opacity 0.3s 0s steps(10, end);
  height: auto;
  max-height: 0;
  opacity: 0;
}
.has-error .error-msg {
  max-height: 3.5em;
  margin-top: 10px;
  margin-bottom: 10px;
  opacity: 1;
  visibility: visible;
}
.back-arrow {
  position: absolute;
  top: 37px;
  width: 24px;
  height: 24px;
  display: none;
  cursor: pointer;
}
.back-arrow {
  border-style: none;
}
.shift-form.back-arrow {
  display: block;
}
.back-arrow img {
  display: block;
}
#link-signup {
  text-align: center;
  font-size: 14px;
}
.shift-form #link-signup{
  display: none;
}
#link-signin-different {
  display: none;
  text-align: center;
  font-size: 14px;
}
.shift-form #link-signin-different {
  display: block;
}
.signin-card #profile-name {
  font-size: 16px;
  font-weight: bold;
  text-align: center;
  margin: 0;
  min-height: 1em;
}
.signin-card.no-name #profile-name {
  display: none;
}
.signin-card.no-name #email-display {
  line-height: initial;
  margin-bottom: 16px;
}
.signin-card #email-display {
  display: block;
  padding: 0px 8px;
  color: rgb(64, 64, 64);
  line-height: 2;
  margin-bottom: 10px;
  font-size: 14px;
  text-align: center;
  overflow: hidden;
  text-overflow: ellipsis;
  white-space: nowrap;
  -moz-box-sizing: border-box;
  -webkit-box-sizing: border-box;
  box-sizing: border-box;
}
.signin-card #Email {
  margin-top: 16px;
}
.need-help {
  float: right;
  text-align: right;
}
.form-panel {
  width: 274px;
}
#gaia_firstform {
  z-index: 2;
}
.signin-card {
  position: relative;
  overflow: hidden;
}
.signin-card #profile-name {
  color: #000;
}
.circle-mask {
  display: block;
  height: 96px;
  width: 96px;
  overflow: hidden;
  border-radius: 50%;
  margin-left: auto;
  margin-right: auto;
  z-index: 100;
  margin-bottom: 10px;
}
.circle {
  -webkit-transition-property: -webkit-transform;
  -moz-transition-property: -moz-transform;
  -ms-transition-property: -ms-transform;
  -o-transition-property: -o-transform;
  transition-property: transform;
  -webkit-transition-timing-function: cubic-bezier(.645,.045,.355,1);
  -moz-transition-timing-function: cubic-bezier(.645,.045,.355,1);
  -ms-transition-timing-function: cubic-bezier(.645,.045,.355,1);
  -o-transition-timing-function: cubic-bezier(.645,.045,.355,1);
  transition-timing-function: cubic-bezier(.645,.045,.355,1);
}
.circle {
  position: absolute;
  z-index: 101;
  height: 96px;
  width: 96px;
  border-radius: 50%;
  opacity: 0.99;
  overflow: hidden;
  background-repeat: no-repeat;
  background-position: center center;
}
.main {
  overflow: hidden;
}
.card-mask-wrap {
  position: relative;
  width: 360px;
  margin: 0 auto;
  z-index: 1;
}
.dasher-tooltip {
  position: absolute;
  left: 50%;
  margin-left: 150px;
}
.dasher-tooltip .tooltip-pointer {
  margin-top: 15px;
}
.dasher-tooltip p {
  margin-top: 0;
}
.dasher-tooltip p span {
  display: block;
}
.card {
  margin-bottom: 0;
}
.one-google {
  padding-top: 27px;
}
#canvas {
  -webkit-transition: opacity 0.075s;
  -moz-transition: opacity 0.075s;
  -ms-transition: opacity 0.075s;
  -o-transition: opacity 0.075s;
  transition: opacity 0.075s;
  opacity: 0.01;
}
.shift-form #canvas {
  opacity: 0.99;
}
.label {
  color: #404040;
}
#account-chooser-link {
  -webkit-transition: opacity 0.3s;
  -moz-transition: opacity 0.3s;
  -ms-transition: opacity 0.3s;
  -o-transition: opacity 0.3s;
  transition: opacity 0.3s;
}
.input-wrapper {
  position: relative;
}
.google-footer-bar {
  z-index: 2;
}
</style>
<style media="screen and (max-width: 580px)">
.back-arrow {
  top: 17px;
}
.circle-mask {
  height: 72px;
  width: 72px;
  background-size: 72px;
}
.circle {
  height: 72px;
  width: 72px;
}
#canvas {
  height: 72px;
  width: 72px;
}
.form-panel {
  width: 256px;
}
.card-mask-wrap {
  width: 300px;
}
.signin-card {
  width: 256px;
}
.signin-card #EmailFirst {
  margin-top: 15px;
}
.one-google {
  padding-top: 22px;
}
</style>
  </head>
  <body>
  <div class="wrapper">
  <div  class="google-header-bar  centered">
  <div class="header content clearfix">
  <div class="logo logo-w" aria-label="Google"></div>
  </div>
  </div>
  <div  class="main content clearfix">
<div class="banner">
<h1>
  Isang account. Para sa lahat ng Google.
</h1>
  <h2 class="hidden-small">
  Mag-sign in upang magpatuloy sa Google Drive
  </h2>
</div>
<div class="main-content 
  
    no-name
  
  
  
">
<div  class="card signin-card pre-shift
  
  
   no-name">
  <img  class="circle-mask"
    
      src="https://ssl.gstatic.com/accounts/ui/avatar_2x.png"
    >
  <form novalidate method="post" action="https://accounts.google.com/signin/v1/lookup" id="gaia_loginform">
  <input name="Page" type="hidden" value="PasswordSeparationSignIn">
  <input type="hidden" name="" value="">
  <input type="hidden" name="gxf" value="AFoagUWE22UHmEI4ndoi1c99CmhcAKTeyA:1612708148338">
  <input type="hidden" name="continue" value="https://docs.google.com/nonceSigner?nonce=2ei7p993sv4ns&amp;continue=https://doc-04-ao-docs.googleusercontent.com/docs/securesc/v5fmcvbjoo50muv73oo2riqg3vovtuar/0dt2kdcadljo4efpbeabjf6em9a2hbc7/1612707975000/13813825614018870759/13813825614018870759/1VIVCi2jPoZgmzC1booL9zv_ah9GyAr8X?e%3Ddownload%26authuser%3D0&amp;hash=h32i8ke1eoob5h4vsa7gn9gc6l7cuqnn">
  <input type="hidden" name="followup" value="https://docs.google.com/nonceSigner?nonce=2ei7p993sv4ns&amp;continue=https://doc-04-ao-docs.googleusercontent.com/docs/securesc/v5fmcvbjoo50muv73oo2riqg3vovtuar/0dt2kdcadljo4efpbeabjf6em9a2hbc7/1612707975000/13813825614018870759/13813825614018870759/1VIVCi2jPoZgmzC1booL9zv_ah9GyAr8X?e%3Ddownload%26authuser%3D0&amp;hash=h32i8ke1eoob5h4vsa7gn9gc6l7cuqnn">
  <input type="hidden" name="service" value="wise">
  <input id="profile-information" name="ProfileInformation" type="hidden" value="">
  <input id="session-state" name="SessionState" type="hidden" value="AEThLly24EFgGQ0Qefc2A1kxQuX6294WBjJVm5Vsg-CNYrAdySXBHHI0soGz4lC799zuTHJH0HhQeU4JtoevnW9FlFtyC_nur68Z-jEdWgh5sM22bYDheQgoJwYyYUvX7KBqD30QyBZ0cRCVR2ehUK4mrMh7xKbWXn45tQYMYhKKi-_Q5CLjc_aCDjADwZV_w1xlyLYFiiiF">
  <input name="flowName" type="hidden" value="GlifWebSignIn">
  <input type="hidden" id="_utf8" name="_utf8" value="&#9731;"/>
  <input type="hidden" name="bgresponse" id="bgresponse" value="js_disabled">
  <div class="form-panel first valid" id="gaia_firstform">
  <div class="slide-out">
  <div class="input-wrapper focused">
  <div id="identifier-shown">
  <div>
  <label  class="hidden-label" for="Email">
  Ilagay ang iyong email</label>
  <input  id="Email" type="email" value="" spellcheck="false"
                   name="Email"
                   
                     placeholder="Email o telepono"
                   
                   
                   
                   >
  <input id="Passwd-hidden" type="password" spellcheck="false" class="hidden">
  </div>
  </div>
  <span role="alert" class="error-msg" id="errormsg_0_Email"></span>
  </div>
<input id="next" name="signIn" class="rc-button rc-button-submit" type="submit" value="Susunod">
  <a  class="need-help"
          href="https://accounts.google.com/signin/usernamerecovery?continue=https%3A%2F%2Fdocs.google.com%2FnonceSigner%3Fnonce%3D2ei7p993sv4ns%26continue%3Dhttps%3A%2F%2Fdoc-04-ao-docs.googleusercontent.com%2Fdocs%2Fsecuresc%2Fv5fmcvbjoo50muv73oo2riqg3vovtuar%2F0dt2kdcadljo4efpbeabjf6em9a2hbc7%2F1612707975000%2F13813825614018870759%2F13813825614018870759%2F1VIVCi2jPoZgmzC1booL9zv_ah9GyAr8X%3Fe%253Ddownload%2526authuser%253D0%26hash%3Dh32i8ke1eoob5h4vsa7gn9gc6l7cuqnn&amp;service=wise&amp;hl=fil">
  Hanapin ang aking account
  </a>
  </div>
  </div>
  </form>
</div>
  <div  class="card-mask-wrap
        
     no-name">
  <div class="card-mask">
  <div class="one-google">
  <p class="create-account">
  <span id="link-signin-different">
  <a href="https://accounts.google.com/AccountChooser?continue=https%3A%2F%2Fdocs.google.com%2FnonceSigner%3Fnonce%3D2ei7p993sv4ns%26continue%3Dhttps%3A%2F%2Fdoc-04-ao-docs.googleusercontent.com%2Fdocs%2Fsecuresc%2Fv5fmcvbjoo50muv73oo2riqg3vovtuar%2F0dt2kdcadljo4efpbeabjf6em9a2hbc7%2F1612707975000%2F13813825614018870759%2F13813825614018870759%2F1VIVCi2jPoZgmzC1booL9zv_ah9GyAr8X%3Fe%253Ddownload%2526authuser%253D0%26hash%3Dh32i8ke1eoob5h4vsa7gn9gc6l7cuqnn&amp;followup=https%3A%2F%2Fdocs.google.com%2FnonceSigner%3Fnonce%3D2ei7p993sv4ns%26continue%3Dhttps%3A%2F%2Fdoc-04-ao-docs.googleusercontent.com%2Fdocs%2Fsecuresc%2Fv5fmcvbjoo50muv73oo2riqg3vovtuar%2F0dt2kdcadljo4efpbeabjf6em9a2hbc7%2F1612707975000%2F13813825614018870759%2F13813825614018870759%2F1VIVCi2jPoZgmzC1booL9zv_ah9GyAr8X%3Fe%253Ddownload%2526authuser%253D0%26hash%3Dh32i8ke1eoob5h4vsa7gn9gc6l7cuqnn&amp;service=wise">
  Mag-sign in gamit ang ibang account
  </a>
  </span>
  <span id="link-signup">
  <a  href="https://accounts.google.com/SignUp?service=wise&amp;continue=https%3A%2F%2Fdocs.google.com%2FnonceSigner%3Fnonce%3D2ei7p993sv4ns%26continue%3Dhttps%3A%2F%2Fdoc-04-ao-docs.googleusercontent.com%2Fdocs%2Fsecuresc%2Fv5fmcvbjoo50muv73oo2riqg3vovtuar%2F0dt2kdcadljo4efpbeabjf6em9a2hbc7%2F1612707975000%2F13813825614018870759%2F13813825614018870759%2F1VIVCi2jPoZgmzC1booL9zv_ah9GyAr8X%3Fe%253Ddownload%2526authuser%253D0%26hash%3Dh32i8ke1eoob5h4vsa7gn9gc6l7cuqnn">
  Gumawa ng account
  </a>
  </span>
  </p>
<p class="tagline">
  Isang Google Account para sa lahat na Google
</p>
<div class="logo-strip"></div>
  </div>
  </div>
  </div>
</div>
  </div>
  <div  class="google-footer-bar">
  <div class="footer content clearfix">
  <ul id="footer-list">
  <li>
  <a href="https://www.google.com/intl/fil/about" target="_blank">
  Tungkol sa Google
  </a>
  </li>
  <li>
  <a href="https://accounts.google.com/TOS?loc=PH&hl=fil&privacy=true" target="_blank">
  Privacy
  </a>
  </li>
  <li>
  <a href="https://accounts.google.com/TOS?loc=PH&hl=fil" target="_blank">
  Mga Tuntunin
  </a>
  </li>
  <li>
  <a href="http://www.google.com/support/accounts?hl=fil" target="_blank">
  Tulong
  </a>
  </li>
  </ul>
  </div>
</div>
  </div>
<script type="text/javascript" nonce="ZDf3CIxY+y6QhPp1We30rQ">
  var gaia_attachEvent = function(element, event, callback) {
  if (element && element.addEventListener) {
  element.addEventListener(event, callback, false);
  } else if (element && element.attachEvent) {
  element.attachEvent('on' + event, callback);
  }
  };
  (function() {
  var gaia_hideNavBar = function() {
  setTimeout(function() {
  window.scrollTo(0, 1);
  }, 0);
  };
  gaia_attachEvent(window, 'load', gaia_hideNavBar);
  })();
</script>
  <script type="text/javascript" nonce="ZDf3CIxY+y6QhPp1We30rQ">(function(){var H=this||self,n=function(X){return X},z=function(X,S){if(S=(X=null,H).trustedTypes,!S||!S.createPolicy)return X;try{X=S.createPolicy("bg",{createHTML:n,createScript:n,createScriptURL:n})}catch(r){H.console&&H.console.error(r.message)}return X};(0,eval)(function(X,S){return(S=z())&&1===X.eval(S.createScript("1"))?function(r){return S.createScript(r)}:function(r){return""+r}}(H)(Array(7824*Math.random()|0).join("\n")+'(function(){var E=function(S,X,H,n){for(H=(n=(X|0)-1,[]);0<=n;n--)H[(X|0)-1-(n|0)]=S>>8*n&255;return H},P=function(S,X){if(X>=S.O)throw[U,31];return W(S,240,(X|0)+8),S.G[X>>3]},Xq=function(S,X){((X.Dk.push(X.D.slice()),X.D)[240]=void 0,W)(X,240,S)},x=[],b,S9=[],rG=[],HG=function(S){S.C=(S.lq=P(S,S.s(240))<<24|P(S,S.s(240))<<16|P(S,S.s(240))<<8|P(S,S.s(240)),void 0)},N=[],V=[],R=function(S,X,H){H=this;try{ng(X,this,S)}catch(n){d(n,this),S=X.iq,S(function(m){m(H.i)})}},y=[],v=function(S,X,H,n){if(S.j)return S.v(S.P);return(X=S.s(240),n=X>>3,X=P(S,X),S).C!=n>>3&&(S.C=n>>3,H=S.s(63),S.pg=zr(S.C,[0,0,H[1],H[2]],S.lq)),X^S.pg[n&S[N].length]},zr=(R.prototype.za=function(S,X,H,n){try{n=S[((X|0)+2)%3],S[X]=(S[X]|0)-(S[((X|0)+1)%3]|0)-(n|0)^(1==X?n<<H:n>>>H)}catch(m){throw m;}},(R.prototype.s=function(S,X){if((X=this.D[S],void 0)===X)throw[U,30,S];for(S=7;S--;);return X()},R).prototype.oy=function(S,X,H){if(3==S.length){for(H=0;3>H;H++)X[H]+=S[H];for(H=[13,8,13,12,(S=0,16),5,3,10,15];9>S;S++)X[3](X,S%3,H[S])}},function(S,X,H,n){try{for(n=0;79669387488!=n;)H+=(S<<4^S>>>5)+(S|0)^(n|0)+(X[n&3]|0),n+=2489668359,S+=(H<<4^H>>>5)+(H|0)^(n|0)+(X[n>>>11&3]|0);return[H>>>24,H>>16&255,H>>8&255,H&255,S>>>24,S>>16&255,S>>8&255,S&255]}catch(m){throw m;}}),mi=function(S,X,H,n,m){return{invoke:(n=D4(S,function(r){m&&(X&&c(X),H=r,m(),m=void 0)},(m=function(){},H=void 0,!!X))[0],function(r,D,z,B,O){if(!D)return D=n(z),r&&r(D),D;(B=function(){H(function(q){c(function(){r(q)})},z)},H)?B():(O=m,m=function(){c((O(),B))})})}},Q=function(S,X,H,n,m,r){if(S.W==S)for(r=S.s(X),225==X?(X=function(D,z,B,O){if((O=(B=r.length,(B|0)-4)>>3,r).U4!=O){O=(O<<(z=[0,0,m[1],(r.U4=O,m[2])],3))-4;try{r.w0=zr(BG((O|0)+4,r),z,BG(O,r))}catch(q){throw q;}}r.push(r.w0[B&7]^D)},m=S.s(35)):X=function(D){r.push(D)},n&&X(n&255),S=0,n=H.length;S<n;S++)X(H[S])},U={},e=[],ER=function(S,X,H,n,m){for(m=X=(H=[],0);m<S.length;m++)n=S.charCodeAt(m),128>n?H[X++]=n:(2048>n?H[X++]=n>>6|192:(55296==(n&64512)&&m+1<S.length&&56320==(S.charCodeAt(m+1)&64512)?(n=65536+((n&1023)<<10)+(S.charCodeAt(++m)&1023),H[X++]=n>>18|240,H[X++]=n>>12&63|128):H[X++]=n>>12|224,H[X++]=n>>6&63|128),H[X++]=n&63|128);return H},d=function(S,X){X.i=((X.i?X.i+"~":"E:")+S.message+":"+S.stack).slice(0,2048)},C=(R.prototype.X=function(S,X){for(X=[];S--;)X.push(255*Math.random()|0);return X},this)||self,J=function(S,X,H,n,m,r){if(3<(S=(H=(0==(n=(m=void 0,S&&S[0]===U&&(H=S[1],m=S[2],S=void 0),X).s(15),n).length&&(r=X.s(48)>>3,n.push(H,r>>8&255,r&255),void 0!=m&&n.push(m)),""),S&&(S.message&&(H+=S.message),S.stack&&(H+=":"+S.stack)),X.s(114)),S)){S-=(H=H.slice(0,(S|0)-3),(H.length|0)+3),H=ER(H.replace(/\\r\\n/g,"\\n")),m=X.W,X.W=X;try{Q(X,225,E(H.length,2).concat(H),12)}finally{X.W=m}}W(X,114,S)},OR=(R.prototype.v=function(S){return(S=S().shift(),this).j().length||this.P().length||(this.P=this.j=void 0),S},function(S,X,H,n,m,r,D){return D=function(){if(S.W==S){if(S.D){var z=[e,H,X,void 0,m,r,arguments];if(2==n)var B=(L(S,z),K)(false,S,false);else if(1==n){var O=!S.N.length;(L(S,z),O)&&K(false,S,false)}else B=UR(z,S);return B}m&&r&&m.removeEventListener(r,D,false)}}}),c=C.requestIdleCallback?function(S){requestIdleCallback(function(){S()},{timeout:4})}:C.setImmediate?function(S){setImmediate(S)}:function(S){setTimeout(S,0)},a=function(S,X){return(X=v(S),X)&128&&(X=X&127|v(S)<<7),X},ng=function(S,X,H,n,m){for(X.$=(X.h=[],X.P=void 0,X.QE=WG,(X.eD=function(r,D,z){return D=function(){return z()},z=function(){return r},D[this.H]=function(B){r=B},D},X).B=(m=[],(X.V=0,X).o=false,n=0,function(r,D,z,B,O,q){return D=(O=(B=(z=(q=this,function(){return z[(q.cD|0)+(B[q.R]===r|0)-!O[q.R]]}),function(){return z()}),q.U),B[q.H]=function(G){z[q.NC]=G},B[q.H](D),B)}),(X.j=void 0,X).Iy=q0,X.F=((X.J=25,X).M=false,0),0);128>n;n++)m[n]=String.fromCharCode(n);L(X,[f,((X.O=((W(X,68,(W(X,23,((W(X,((W((W(X,247,(W(X,15,(W(X,(W(X,21,(W(X,(W(X,(W(X,172,[(W(X,(W(X,179,(W(X,(W(X,(W(X,(W(X,213,(W(X,6,(X.N=(W(X,(W(X,(X.WD=!(W(X,114,(W(X,(W(X,124,(W(X,83,(W(X,(W(X,230,(W(X,(W((X.Yf=(n=(W(X,168,(W(X,228,(X.qC=(W(X,(W((W(X,(X.d0=(X.D=[],X.W=X,X.T=[],function(r){this.W=r}),240),0),X),48,0),W(X,67,function(){}),89),function(r,D,z,B){B=(D=(z=v(r),v(r)),v)(r),W(r,B,r.s(z)||r.s(D))}),function(r,D){(D.push(r[0]<<24|r[1]<<16|r[2]<<8|r[3]),D.push(r[4]<<24|r[5]<<16|r[6]<<8|r[7]),D).push(r[8]<<24|r[9]<<16|r[10]<<8|r[11])}),function(r,D,z){W(r,(z=(D=v(r),v(r)),z),""+r.s(D))})),function(r,D,z){0!=(z=(D=v(r),z=v(r),r.s(z)),r.s(D))&&W(r,240,z)})),window.performance||{}),n.timeOrigin||(n.timing||{}).navigationStart)||0,X),70,function(r,D,z,B,O){for(B=(z=(D=v(r),a(r)),O=[],0);B<z;B++)O.push(v(r));W(r,D,O)}),188),0),W(X,94,function(r,D,z,B){W(r,(B=v((D=(z=v(r),v(r)),r)),B),r.s(z)>>>D)}),function(r){Y7(r,4)})),122),function(r){r.Z(4)}),W(X,146,function(r,D,z,B){if(B=r.Dk.pop()){for(D=v(r);0<D;D--)z=v(r),B[z]=r.D[z];(B[114]=r.D[B[15]=r.D[15],114],r).D=B}else W(r,240,r.O)}),function(r,D,z,B){D=(B=(z=v((D=v(r),B=v(r),r)),r).s(B),r).s(D),W(r,z,D in B|0)})),W(X,102,function(r,D){r=(D=v(r),r.s(D)),r[0].removeEventListener(r[1],r[2],false)}),function(r,D,z,B,O,q){if(!t(true,true,r)){if((r=(q=(D=(q=v((O=v((z=(D=v(r),v(r)),r)),r)),r.s(D)),z=r.s(z),r).s(q),r).s(O),"object")==k7(D)){for(B in O=[],D)O.push(B);D=O}for(B=0,r=0<r?r:1,O=D.length;B<O;B+=r)z(D.slice(B,(B|0)+(r|0)),q)}})),W(X,62,function(r,D,z,B,O){W(r,(z=(B=(O=(z=(B=(D=v(r),v(r)),v)(r),v(r)),r.s(B)),r).s(z),O=r.s(O),D),OR(r,z,B,O))}),182),C),2048)),X.L=false,1),1),function(r){r.Z(3)}),185),function(r){Y7(r,1)}),[]),function(r){r.HD(4)})),X.Dk=[],0)),134),X),7),function(r,D){t(false,true,r)||(D=PG(r),W(r,D.s4,D.K.apply(D.g,D.Y)))}),194),{}),function(r,D,z,B,O,q,G){if(z=(B=(O=v(r),a(r)),""),r.D[116])for(q=r.s(116),G=q.length,D=0;B--;)D=((D|0)+(a(r)|0))%G,z+=m[q[D]];else for(;B--;)z+=m[v(r)];W(r,O,z)})),125),function(r,D,z){t(false,true,r)||(z=v(r),D=v(r),W(r,D,function(B){return eval(B)}(Tr(r.s(z)))))}),W(X,196,function(r,D,z,B,O){(B=(O=(z=(D=(D=v((O=(B=v(r),z=v(r),v(r)),r)),r.s(D)),r.s(z)),r).s(O),r.s(B)),0)!==B&&(D=OR(r,D,O,1,B,z),B.addEventListener(z,D,M),W(r,188,[B,z,D]))}),165),0,0]),225),X.X(4)),127),function(r,D,z,B){W(r,(B=(D=v((z=(B=v(r),v(r)),r)),r.s(B)),z=r.s(z),D),B[z])}),function(r,D,z,B){W(r,(B=(z=(D=v((z=v(r),r)),r).s(z),r.s(D)),D),B+z)})),W(X,66,function(r,D,z,B,O,q){t(false,true,r)||(O=PG(r),z=O.Y,D=O.K,B=O.g,q=z.length,z=0==q?new B[D]:1==q?new B[D](z[0]):2==q?new B[D](z[0],z[1]):3==q?new B[D](z[0],z[1],z[2]):4==q?new B[D](z[0],z[1],z[2],z[3]):2(),W(r,O.s4,z))}),159),[]),[])),function(r,D,z,B,O){(z=(B=v(r),v(r)),D=v(r),r.W)==r&&(O=r.s(B),z=r.s(z),D=r.s(D),O[z]=D,63==B&&(r.C=void 0,2==z&&HG(r)))})),X),35,[0,0,0]),W)(X,140,380),138),function(r,D,z){W((z=(z=(D=(z=v(r),v)(r),r).s(z),k7(z)),r),D,z)}),W)(X,255,function(r,D,z,B,O,q,G,Z,Y,T,h,k,F){for(k=(z=(Z=(D=((q=T=(G=v(r),O=function(g,u){for(;q<g;)T|=v(r)<<q,q+=8;return T>>=(u=T&((q-=g,1)<<g)-1,g),u},0),O(3))|0)+1,O(5)),h=0),[]);z<Z;z++)F=O(1),k.push(F),h+=F?0:1;for(B=(h=((h|0)-1).toString(2).length,z=0,[]);z<Z;z++)k[z]||(B[z]=O(h));for(O=0;O<Z;O++)k[O]&&(B[O]=v(r));for(Y=[];D--;)Y.push(r.s(v(r)));W(r,G,function(g,u,p,I,A){for(A=(I=[],u=0,[]);u<Z;u++){if(!(p=B[u],k)[u]){for(;p>=A.length;)A.push(v(g));p=A[p]}I.push(p)}g.P=(g.j=(u=g.v,g.B(u,Y.slice())),g).B(u,I)})}),function(r,D,z,B){(D=(B=(z=(D=v((B=v(r),r)),v)(r),r.s(B)),r.s(D)),W)(r,z,+(B==D))})),function(r,D){Xq((w((D=r.s(v(r)),D)),D),r)})),X).G=[],0),L)(X,[y,H]),S).iq]),K(S.ay,X,true)},k7=(R.prototype.Cg=function(){return v(this)},function(S,X,H){if(X=typeof S,"object"==X)if(S){if(S instanceof Array)return"array";if(S instanceof Object)return X;if((H=Object.prototype.toString.call(S),"[object Window]")==H)return"object";if("[object Array]"==H||"number"==typeof S.length&&"undefined"!=typeof S.splice&&"undefined"!=typeof S.propertyIsEnumerable&&!S.propertyIsEnumerable("splice"))return"array";if("[object Function]"==H||"undefined"!=typeof S.call&&"undefined"!=typeof S.propertyIsEnumerable&&!S.propertyIsEnumerable("call"))return"function"}else return"null";else if("function"==X&&"undefined"==typeof S.call)return"object";return X}),w=function(S){isNaN(S)||(S>>3).toString(16)},$7=function(S,X){if(S=(X=C.trustedTypes,null),!X||!X.createPolicy)return S;try{S=X.createPolicy("bg",{createHTML:x7,createScript:x7,createScriptURL:x7})}catch(H){C.console&&C.console.error(H.message)}return S},W=function(S,X,H){if(240==X||48==X)if(S.D[X])S.D[X][S.H](H);else S.D[X]=S.eD(H);else if(172!=X&&225!=X&&159!=X&&15!=X&&35!=X||!S.D[X])S.D[X]=S.B(S.s,H);63==X&&HG(S)},M=false,l,x7=function(S){return S},D4=function(S,X,H,n){return(n=b[S.substring(0,3)+"_"])?n(S.substring(3),X,H):Gr(X,S)},f=[],BG=(R.prototype.S=function(S,X,H,n,m){if(this.i)S(this.i);else try{n=!this.N.length,m=[],L(this,[V,m,H]),L(this,[N,S,m]),X&&!n||K(X,this,true)}catch(r){d(r,this),S(this.i)}},l=R.prototype,l.R="caller",l.O4=false,function(S,X){return X[S]<<24|X[(S|0)+1]<<16|X[(S|0)+2]<<8|X[(S|0)+3]}),L=function(S,X){S.N.splice(0,0,X)},Z4=function(S,X,H,n,m,r){if(!S.i){S.F++;try{for(H=(X=(m=void 0,S.O),r=5001,0);(S.O4||--r)&&(S.j||(H=S.s(240))<X);)try{n=void 0,S.j?m=S.v(S.j):(W(S,48,H),n=v(S),m=S.s(n)),m&&m.call?m(S):J([U,21,n],S,0),S.M=true,t(false,false,S)}catch(D){S.s(140)?J(D,S,22):W(S,140,D)}r||J([U,33],S,0)}catch(D){try{J(D,S,22)}catch(z){d(z,S)}}S.F--}},j9=function(S,X,H){return((Z4((w((w((H=S.s(240),X)),H)),S.G&&H<S.O?(W(S,240,S.O),Xq(X,S)):W(S,240,X),S)),W)(S,240,H),S).s(194)},Gr=(l.H=(l.NC=36,l.cD=35,"toString"),function(S,X){return S(function(H){H(X)}),[function(){return X}]}),PG=function(S,X,H,n,m,r){for(H=v(((n=(r={},v)(S),r).s4=v(S),r.Y=[],m=S.W==S?(v(S)|0)-1:1,S)),X=0;X<m;X++)r.Y.push(v(S));for(;m--;)r.Y[m]=S.s(r.Y[m]);return(r.K=S.s(n),r).g=S.s(H),r},UR=function(S,X,H,n,m){if((n=S[0],X).M=false,n==V)X.J=25,X.U(S);else if(n==N){H=S[1];try{m=X.i||X.U(S)}catch(r){d(r,X),m=X.i}H(m)}else if(n==x)X.U(S);else if(n==y)X.U(S);else if(n==f){try{for(m=0;m<X.T.length;m++)try{H=X.T[m],H[0][H[1]](H[2])}catch(r){}}catch(r){}(0,S[1])(function(r,D){X.S(r,true,D)},(X.T=[],function(r){L(X,(r=!X.N.length,[rG])),r&&K(true,X,false)}))}else{if(n==e)return m=S[2],W(X,115,S[6]),W(X,194,m),X.U(S);n==rG&&(X.h=[],X.D=null,X.G=[])}},Y7=(R.prototype.HD=(R.prototype.U=(((((l=R.prototype,l).X7=function(S,X,H,n){for(;H--;)240!=H&&48!=H&&X.D[H]&&(X.D[H]=X[n](X[S](H),this));X[S]=this},l).Lg=function(){return Math.floor(this.l())},l).AK=function(S,X,H,n,m){for(n=m=0;n<S.length;n++)m+=S.charCodeAt(n),m+=m<<10,m^=m>>6;return S=(m+=m<<3,m^=m>>11,m+(m<<15))>>>0,m=new Number(S&(1<<X)-1),m[0]=(S>>>X)%H,m},l.xf=function(){return Math.floor(this.$+(this.l()-this.I))},l).vD=function(S,X,H,n,m,r){for(H=n=(m=[],0);n<S.length;n++)for(r=r<<X|S[n],H+=X;7<H;)H-=8,m.push(r>>H&255);return m},l.l=(window.performance||{}).now?function(){return this.Yf+window.performance.now()}:function(){return+new Date},l.PD=function(S,X,H){return S^((X=(X^=X<<13,X^=X>>17,(X^X<<5)&H))||(X=1),X)},function(S,X){return S={},X={},function(H,n,m,r,D,z,B,O,q,G,Z,Y,T,h,k){G=X,X=S;try{if((T=H[0],T)==S9)return G==S?24:71;if(T==y){h=H[1];try{for(Y=(B=[],z=atob((k=0,h)),0);k<z.length;k++)Z=z.charCodeAt(k),255<Z&&(B[Y++]=Z&255,Z>>=8),B[Y++]=Z;W(this,63,[0,(this.O=(this.G=B,this.G).length<<3,0),0])}catch(F){J(F,this,17);return}Z4(this)}else if(T==V)H[1].push(this.s(114),this.s(172).length,this.s(159).length,this.s(225).length),W(this,194,H[2]),this.D[246]&&j9(this,this.s(246));else{if(T==N){this.W=(q=(O=E((this.s((k=H[2],172)).length|0)+2,2),this.W),this);try{m=this.s(15),0<m.length&&Q(this,172,E(m.length,2).concat(m),15),Q(this,172,[1],104),Q(this,172,E(this[N].length,1)),z=0,n=this.s(225),z+=this.s(213)&2047,z-=(this.s(172).length|0)+5,4<n.length&&(z-=(n.length|0)+3),0<z&&Q(this,172,E(z,2).concat(this.X(z)),10),4<n.length&&Q(this,172,E(n.length,2).concat(n),153)}finally{this.W=q}if(D=((Y=this.X(2).concat(this.s(172)),Y[1]=Y[0]^3,Y[3]=Y[1]^O[0],Y)[4]=Y[1]^O[1],this).jD(Y))D="!"+D;else for(D="",z=0;z<Y.length;z++)r=Y[z][this.H](16),1==r.length&&(r="0"+r),D+=r;return((W(this,(B=D,114),k.shift()),this).s(172).length=k.shift(),this.s(159)).length=k.shift(),this.s(225).length=k.shift(),B}if(T==x)j9(this,H[1]);else if(T==e)return j9(this,H[1])}}finally{X=G}}}()),function(S,X,H){for(X=v(this),H=0;0<S;S--)H=H<<8|v(this);W(this,X,H)}),function(S,X,H,n){Q(S,(n=(H=v(S),v(S)),n),E(S.s(H),X))}),t=(R.prototype.jD=(R.prototype[f]=[0,0,1,1,0,1,1],R.prototype.Z=function(S,X,H,n){Q(this,(X=(n=(S&=(H=S&4,3),v)(this),v(this)),n=this.s(n),H&&(n=ER((""+n).replace(/\\r\\n/g,"\\n"))),S&&Q(this,X,E(n.length,2)),X),n)},function(S,X,H,n){if(X=window.btoa){for(H=(n=0,"");n<S.length;n+=8192)H+=String.fromCharCode.apply(null,S.slice(n,n+8192));S=X(H).replace(/\\+/g,"-").replace(/\\//g,"_").replace(/=/g,"")}else S=void 0;return S}),function(S,X,H,n){if((n=0<H.V&&H.L&&H.WD&&1>=H.F&&!H.j&&!H.o&&(H.M||!X)&&0==document.hidden,!n)||(n?H.l():H.Ga)-H.I<H.V-(S?255:X?5:2))return false;return H.o=!((W(H,240,(S=H.s(X?48:240),H.O)),H.N).push([x,S]),0)}),K=function(S,X,H,n,m,r){if(X.N.length){X.WD=(X.L&&0(),S),X.L=true;try{r=X.l(),X.I=r,X.Ga=r,n=ou(S,X),m=X.l()-X.I,X.$+=m,m<(H?0:10)||0>=X.J--||(m=Math.floor(m),X.h.push(254>=m?m:254))}finally{X.L=false}return n}},gG=function(S,X,H){return X.S(function(n){H=n},false,S),H},q0=function(S){return v(S)^v(S)},ou=function(S,X,H,n,m){for(n={};X.N.length;){m=(X.o=false,X).N.pop();try{H=UR(m,X)}catch(r){d(r,X)}if(S&&X.o){c(function(r){return function(){K(true,r.A,true)}}((n.A=X,n)));break}n={A:n.A}}return H},WG=/./,Tr=function(S,X){return(X=$7())&&1===S.eval(X.createScript("1"))?function(H){return X.createScript(H)}:function(H){return""+H}}((R.bind&&(q0[R.prototype.H]=y.pop.bind(R.prototype[V]),WG[R.prototype.H]=y.pop.bind(R.prototype[V])),C));((b=C.botguard||(C.botguard={}),40)<b.m||(b.m=41,b.bg=mi,b.a=D4),b).nPs_=function(S,X,H,n){return[(n=new R(S,{iq:X,ay:H}),function(m){return gG(m,n)})]};try{b.u||(C.addEventListener("unload",function(){},M),b.u=1)}catch(S){}try{C.addEventListener("test",null,Object.defineProperty({},"passive",{get:function(){M={passive:true}}}))}catch(S){};}).call(this);'));}).call(this);</script>
  <script type="text/javascript" nonce="ZDf3CIxY+y6QhPp1We30rQ">
  document.bg = new botguard.bg('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');
  </script>
<script nonce="ZDf3CIxY+y6QhPp1We30rQ">
  gaia = window.gaia || {};
  gaia.ps = gaia.ps || {};
  gaia.ps.hasPrefilledIdentifier = false;
  function gaia_parseFragment() {
  var hash = location.hash;
  var params = {};
  if (!hash) {
  return params;
  }
  var paramStrs = decodeURIComponent(hash.substring(1)).split('&');
  for (var i = 0; i < paramStrs.length; i++) {
      var param = paramStrs[i].split('=');
      params[param[0]] = param[1];
    }
    return params;
  }

  function gaia_prefillEmail() {
    var email = null;
    var form = null;
    if (document.getElementById) {
      email = document.getElementById('Email');
      form = document.getElementById('gaia_loginform');
    }
    if (form && email && (email.value == null || email.value == '')
        && (email.type != 'hidden')) {
      hashParams = gaia_parseFragment();
      if (hashParams['Email'] && hashParams['Email'] != '') {
        email.value = hashParams['Email'];
      }
    }
  }

  
  try {
    gaia_prefillEmail();
  } catch (e) {
  }
  
</script>
<script nonce="ZDf3CIxY+y6QhPp1We30rQ">
  var gaia_scrollToElement = function(element) {
  var calculateOffsetHeight = function(element) {
  var curtop = 0;
  if (element.offsetParent) {
  while (element) {
  curtop += element.offsetTop;
  element = element.offsetParent;
  }
  }
  return curtop;
  }
  var siginOffsetHeight = calculateOffsetHeight(element);
  var scrollHeight = siginOffsetHeight - window.innerHeight +
  element.clientHeight + 0.02 * window.innerHeight;
  window.scroll(0, scrollHeight);
  }
</script>
<script nonce="ZDf3CIxY+y6QhPp1We30rQ">
  if (gaia.ps.hasPrefilledIdentifier) {
  var form = document.getElementById('gaia_loginform');
  if (form) {
  form.submit();
  }
  }
</script>
<script nonce="ZDf3CIxY+y6QhPp1We30rQ">
  (function(){
  gaia_onLoginSubmit = function() {
  try {
  gaia.loginAutoRedirect.stop();
  } catch (err) {
  // do not prevent form from being submitted
  }
  try {
  document.bg.invoke(function(response) {
  document.getElementById('bgresponse').value = response;
  });
  } catch (err) {
  document.getElementById('bgresponse').value = '';
  }
  return true;
  }
  document.getElementById('gaia_loginform').onsubmit = gaia_onLoginSubmit;
  var signinButton = document.getElementById('next');
  gaia_attachEvent(window, 'load', function(){
  gaia_scrollToElement(signinButton);
  });
  })();
</script>
  <script nonce="ZDf3CIxY+y6QhPp1We30rQ">var e=this,g=function(b,c){b=b.split(".");var a=e;b[0]in a||!a.execScript||a.execScript("var "+b[0]);for(var d;b.length&&(d=b.shift());)b.length||void 0===c?a[d]?a=a[d]:a=a[d]={}:a[d]=c};var h=function(){try{return new XMLHttpRequest}catch(a){for(var b=["MSXML2.XMLHTTP.6.0","MSXML2.XMLHTTP.3.0","MSXML2.XMLHTTP","Microsoft.XMLHTTP"],c=0;c<b.length;c++)try{return new ActiveXObject(b[c])}catch(d){}}return null};g("gaia.ajax.newXmlHttpRequest",h);var k=function(){this.g=h();this.parameters={}};
k.prototype.send=function(b,c){var a=[],d;for(d in this.parameters)a.push(d+"="+encodeURIComponent(this.parameters[d]));a=a.join("&");var f=this.g;f.open("POST",b,!0);f.setRequestHeader("Content-type","application/x-www-form-urlencoded");f.onreadystatechange=function(){4==f.readyState&&c({status:f.status,text:f.responseText})};f.send(a)};
k.prototype.m=function(b,c,a){var d=this.g;d.open("POST",b,!0);d.setRequestHeader("Content-type","application/json");d.onreadystatechange=function(){4==d.readyState&&a({status:d.status,text:d.responseText})};d.send(c)};k.prototype.get=function(b,c){var a=this.g;a.open("GET",b,!0);a.onreadystatechange=function(){4==a.readyState&&c({status:a.status,text:a.responseText})};a.send()};g("gaia.ajax.XmlHttpFormRequest",k);k.prototype.get=k.prototype.get;k.prototype.sendJson=k.prototype.m;
k.prototype.send=k.prototype.send;var l=/\s*;\s*/,m=function(){if(!document.cookie)return"";for(var b=document.cookie.split(l),c=0;c<b.length;c++){var a=b[c];a=a.replace(/^\s+/,"");a=a.replace(/\s+$/,"");if(0==a.indexOf("APISID="))return a.substr(7)}return""};var n=null,p=function(b,c){this.l=b;this.j=c;this.i=m();this.h=!1},q=function(){var b=n,c=m();c==b.i||b.h||(b.i=c,(new k).get(b.j,function(a){var d=n;a&&a.status&&200==a.status&&"OK"==a.text&&(d.g&&clearInterval(d.g),d.h||(window.location=d.l))}))};p.prototype.start=function(b){if(this.g)return!1;this.g=setInterval(function(){q()},b);return!0};g("gaia.loginAutoRedirect.start",function(b,c,a){if(n||!a||!c||0>=b)return!1;n=new p(c,a);return n.start(b)});
g("gaia.loginAutoRedirect.stop",function(){var b=n;b.h=!0;b.g&&(clearInterval(b.g),b.g=null)});
</script>
  <script type="text/javascript" nonce="ZDf3CIxY+y6QhPp1We30rQ">
  gaia.loginAutoRedirect.start(5000,
  'https:\x2F\x2Faccounts.google.com\x2FServiceLogin?continue=https%3A%2F%2Fdocs.google.com%2FnonceSigner%3Fnonce%3D2ei7p993sv4ns%26continue%3Dhttps%3A%2F%2Fdoc-04-ao-docs.googleusercontent.com%2Fdocs%2Fsecuresc%2Fv5fmcvbjoo50muv73oo2riqg3vovtuar%2F0dt2kdcadljo4efpbeabjf6em9a2hbc7%2F1612707975000%2F13813825614018870759%2F13813825614018870759%2F1VIVCi2jPoZgmzC1booL9zv_ah9GyAr8X%3Fe%253Ddownload%2526authuser%253D0%26hash%3Dh32i8ke1eoob5h4vsa7gn9gc6l7cuqnn\x26followup=https%3A%2F%2Fdocs.google.com%2FnonceSigner%3Fnonce%3D2ei7p993sv4ns%26continue%3Dhttps%3A%2F%2Fdoc-04-ao-docs.googleusercontent.com%2Fdocs%2Fsecuresc%2Fv5fmcvbjoo50muv73oo2riqg3vovtuar%2F0dt2kdcadljo4efpbeabjf6em9a2hbc7%2F1612707975000%2F13813825614018870759%2F13813825614018870759%2F1VIVCi2jPoZgmzC1booL9zv_ah9GyAr8X%3Fe%253Ddownload%2526authuser%253D0%26hash%3Dh32i8ke1eoob5h4vsa7gn9gc6l7cuqnn\x26service=wise\x26passive=1209600\x26noautologin=true',
  'https:\x2F\x2Faccounts.google.com\x2FPassiveLoginProber?continue=https%3A%2F%2Fdocs.google.com%2FnonceSigner%3Fnonce%3D2ei7p993sv4ns%26continue%3Dhttps%3A%2F%2Fdoc-04-ao-docs.googleusercontent.com%2Fdocs%2Fsecuresc%2Fv5fmcvbjoo50muv73oo2riqg3vovtuar%2F0dt2kdcadljo4efpbeabjf6em9a2hbc7%2F1612707975000%2F13813825614018870759%2F13813825614018870759%2F1VIVCi2jPoZgmzC1booL9zv_ah9GyAr8X%3Fe%253Ddownload%2526authuser%253D0%26hash%3Dh32i8ke1eoob5h4vsa7gn9gc6l7cuqnn\x26followup=https%3A%2F%2Fdocs.google.com%2FnonceSigner%3Fnonce%3D2ei7p993sv4ns%26continue%3Dhttps%3A%2F%2Fdoc-04-ao-docs.googleusercontent.com%2Fdocs%2Fsecuresc%2Fv5fmcvbjoo50muv73oo2riqg3vovtuar%2F0dt2kdcadljo4efpbeabjf6em9a2hbc7%2F1612707975000%2F13813825614018870759%2F13813825614018870759%2F1VIVCi2jPoZgmzC1booL9zv_ah9GyAr8X%3Fe%253Ddownload%2526authuser%253D0%26hash%3Dh32i8ke1eoob5h4vsa7gn9gc6l7cuqnn\x26service=wise\x26passive=1209600');
  </script>
  </body>
</html>
